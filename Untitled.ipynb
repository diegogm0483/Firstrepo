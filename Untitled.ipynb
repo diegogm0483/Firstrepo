{
 "cells": [
  {
   "cell_type": "code",
   "execution_count": 83,
   "metadata": {},
   "outputs": [
    {
     "name": "stdout",
     "output_type": "stream",
     "text": [
      "['ra', []]\n",
      "['ra', ['ta']] [['ta'], ['ta']]\n",
      "['ta']\n"
     ]
    }
   ],
   "source": [
    "a_list=[]\n",
    "b_list=[\"ra\",a_list]\n",
    "print(b_list)\n",
    "c_list=[a_list, a_list]\n",
    "c_list[1].append(\"ta\")\n",
    "print(b_list, c_list)\n",
    "print(a_list)"
   ]
  },
  {
   "cell_type": "code",
   "execution_count": 89,
   "metadata": {},
   "outputs": [
    {
     "name": "stdout",
     "output_type": "stream",
     "text": [
      "['go', [...]]\n"
     ]
    }
   ],
   "source": [
    "alist=[\"go\"]\n",
    "alist.append(alist)\n",
    "print(alist)"
   ]
  },
  {
   "cell_type": "code",
   "execution_count": 91,
   "metadata": {},
   "outputs": [
    {
     "name": "stdout",
     "output_type": "stream",
     "text": [
      "b_list now has the value [1, 2, ['Bill', 'Kay']]\n",
      "a_list now has the value [5, 2, ['Bill', 'Kay']]\n",
      "b_list now has the value [1, 2, ['Bill', 'Kay']]\n"
     ]
    }
   ],
   "source": [
    "a_list=[1,2,[\"Bill\",\"Kay\"]]\n",
    "b_list = a_list.copy()\n",
    "print(\"b_list now has the value\",b_list)\n",
    "a_list[0]=5\n",
    "print(\"a_list now has the value\",a_list)\n",
    "print(\"b_list now has the value\",b_list)"
   ]
  },
  {
   "cell_type": "code",
   "execution_count": 93,
   "metadata": {},
   "outputs": [
    {
     "name": "stdout",
     "output_type": "stream",
     "text": [
      "b_list now has the value [1, 2, ['Bill', 'Key', 'Paul']]\n"
     ]
    }
   ],
   "source": [
    "a_list=[1,2,[\"Bill\",\"Key\"]]\n",
    "b_list=a_list.copy()\n",
    "a_list[2].append(\"Paul\")\n",
    "print(\"b_list now has the value\",b_list)"
   ]
  },
  {
   "cell_type": "code",
   "execution_count": 113,
   "metadata": {},
   "outputs": [
    {
     "name": "stdout",
     "output_type": "stream",
     "text": [
      "[1, 2, ['Bill', 'Kay', 'hello']]\n",
      "[1, 2, ['Bill', 'Kay']]\n"
     ]
    }
   ],
   "source": [
    "from copy import deepcopy\n",
    "a_list=[1,2,[\"Bill\",\"Kay\"]]\n",
    "c_list = deepcopy(a_list)\n",
    "a_list[2].append(\"hello\")\n",
    "print(a_list)\n",
    "print(c_list)"
   ]
  },
  {
   "cell_type": "code",
   "execution_count": 126,
   "metadata": {},
   "outputs": [
    {
     "name": "stdout",
     "output_type": "stream",
     "text": [
      "10 20\n"
     ]
    }
   ],
   "source": [
    "x=(1,2,3,10,11,12)\n",
    "x=x+x[::2]\n",
    "x\n",
    "a_list=[1,2,3]\n",
    "type(a_list)\n",
    "tuple(a_list)\n",
    "list(x)\n",
    "x=\"goodbye\"\n",
    "x[0:4]\n",
    "list(x)\n",
    "x[::2]\n",
    "low,high=10,20\n",
    "print(low,high)\n"
   ]
  },
  {
   "cell_type": "code",
   "execution_count": 140,
   "metadata": {},
   "outputs": [
    {
     "name": "stdout",
     "output_type": "stream",
     "text": [
      "range(0, 10)\n",
      "[0, 1, 2, 3, 4, 5, 6, 7, 8, 9]\n",
      "[0, 5]\n",
      "[0, 10, 20, 30, 40, 50, 60, 70, 80, 90]\n",
      "[0, 10, 20, 30, 40, 50, 60, 70, 80, 90, 100]\n"
     ]
    },
    {
     "data": {
      "text/plain": [
       "False"
      ]
     },
     "execution_count": 140,
     "metadata": {},
     "output_type": "execute_result"
    }
   ],
   "source": [
    "x=range(10)\n",
    "print(x)\n",
    "list(x)\n",
    "start =0\n",
    "stop=10\n",
    "step=1\n",
    "print(list(range(start,stop,step)))\n",
    "step=5\n",
    "print(list(range(start,stop,step)))\n",
    "stop=100\n",
    "step=10\n",
    "start=0\n",
    "print(list(range(start,stop,step)))\n",
    "stop+=1\n",
    "print(list(range(start,stop,step)))\n",
    "x\n",
    "list(x)\n",
    "5 in x\n",
    "x.index(2)\n",
    "5 not in x"
   ]
  },
  {
   "cell_type": "code",
   "execution_count": 142,
   "metadata": {},
   "outputs": [
    {
     "name": "stdout",
     "output_type": "stream",
     "text": [
      "{'do': 'a deer', 're': 'a drop', 'me': 'a name'}\n"
     ]
    }
   ],
   "source": [
    "#Dictionary\n",
    "a={'do':'a deer', 're':'a drop','me':'a name'}\n",
    "print (a)"
   ]
  },
  {
   "cell_type": "code",
   "execution_count": 147,
   "metadata": {},
   "outputs": [
    {
     "name": "stdout",
     "output_type": "stream",
     "text": [
      "True\n"
     ]
    }
   ],
   "source": [
    "b={'re':'a drop','me':'a name','do':'a deer'}\n",
    "print(a==b)\n"
   ]
  },
  {
   "cell_type": "code",
   "execution_count": 148,
   "metadata": {},
   "outputs": [
    {
     "data": {
      "text/plain": [
       "'a name'"
      ]
     },
     "execution_count": 148,
     "metadata": {},
     "output_type": "execute_result"
    }
   ],
   "source": [
    "a['me']"
   ]
  },
  {
   "cell_type": "code",
   "execution_count": 152,
   "metadata": {},
   "outputs": [
    {
     "data": {
      "text/plain": [
       "True"
      ]
     },
     "execution_count": 152,
     "metadata": {},
     "output_type": "execute_result"
    }
   ],
   "source": [
    "c=dict(do='a deer',re = 'a drop',me='a name')\n",
    "d=dict([('do','a deer'),('re', 'a drop'),('me','a name')])\n",
    "a == b == c == d"
   ]
  },
  {
   "cell_type": "code",
   "execution_count": 154,
   "metadata": {},
   "outputs": [
    {
     "name": "stdout",
     "output_type": "stream",
     "text": [
      "{5563321: 'Mary', 8884433: 'John'}\n"
     ]
    }
   ],
   "source": [
    "rolodex={}\n",
    "rolodex[5563321]='Mary'\n",
    "rolodex[8884433]='John'\n",
    "print(rolodex)"
   ]
  },
  {
   "cell_type": "code",
   "execution_count": 186,
   "metadata": {},
   "outputs": [
    {
     "name": "stdout",
     "output_type": "stream",
     "text": [
      "unknown number\n"
     ]
    }
   ],
   "source": [
    "print(rolodex.get(5563321,'unknown number'))"
   ]
  },
  {
   "cell_type": "code",
   "execution_count": 160,
   "metadata": {},
   "outputs": [
    {
     "ename": "KeyError",
     "evalue": "5563321",
     "output_type": "error",
     "traceback": [
      "\u001b[1;31m---------------------------------------------------------------------------\u001b[0m",
      "\u001b[1;31mKeyError\u001b[0m                                  Traceback (most recent call last)",
      "\u001b[1;32m<ipython-input-160-af78c4f779e6>\u001b[0m in \u001b[0;36m<module>\u001b[1;34m()\u001b[0m\n\u001b[1;32m----> 1\u001b[1;33m \u001b[1;32mdel\u001b[0m \u001b[0mrolodex\u001b[0m\u001b[1;33m[\u001b[0m\u001b[1;36m5563321\u001b[0m\u001b[1;33m]\u001b[0m\u001b[1;33m\u001b[0m\u001b[0m\n\u001b[0m\u001b[0;32m      2\u001b[0m \u001b[0mrolodex\u001b[0m\u001b[1;33m\u001b[0m\u001b[0m\n",
      "\u001b[1;31mKeyError\u001b[0m: 5563321"
     ]
    }
   ],
   "source": [
    "del rolodex[5563321]\n",
    "rolodex"
   ]
  },
  {
   "cell_type": "code",
   "execution_count": 183,
   "metadata": {},
   "outputs": [
    {
     "data": {
      "text/plain": [
       "'Not'"
      ]
     },
     "execution_count": 183,
     "metadata": {},
     "output_type": "execute_result"
    }
   ],
   "source": [
    "rolodex.pop(8884433,'Not')"
   ]
  },
  {
   "cell_type": "code",
   "execution_count": 168,
   "metadata": {},
   "outputs": [
    {
     "name": "stdout",
     "output_type": "stream",
     "text": [
      "{'Hi': 'Hai', 'Bye': 'Bai'}\n"
     ]
    }
   ],
   "source": [
    "eng = {'Hi':'Hai',\"Bye\":\"Bai\"}\n",
    "print(eng)"
   ]
  },
  {
   "cell_type": "code",
   "execution_count": 171,
   "metadata": {},
   "outputs": [
    {
     "data": {
      "text/plain": [
       "{'Bye': {'Formal': 'Buhbai', 'Informal': 'Bai'}, 'Hi': 'Hai'}"
      ]
     },
     "execution_count": 171,
     "metadata": {},
     "output_type": "execute_result"
    }
   ],
   "source": [
    "eng[\"Bye\"]={\"Formal\":\"Buhbai\",\"Informal\":\"Bai\"}\n",
    "eng"
   ]
  },
  {
   "cell_type": "code",
   "execution_count": 174,
   "metadata": {},
   "outputs": [
    {
     "data": {
      "text/plain": [
       "True"
      ]
     },
     "execution_count": 174,
     "metadata": {},
     "output_type": "execute_result"
    }
   ],
   "source": [
    "\"Hi\" in eng"
   ]
  },
  {
   "cell_type": "code",
   "execution_count": 175,
   "metadata": {},
   "outputs": [
    {
     "data": {
      "text/plain": [
       "True"
      ]
     },
     "execution_count": 175,
     "metadata": {},
     "output_type": "execute_result"
    }
   ],
   "source": [
    "\"Thank you\" not in eng"
   ]
  },
  {
   "cell_type": "code",
   "execution_count": 177,
   "metadata": {},
   "outputs": [
    {
     "data": {
      "text/plain": [
       "{'Bye': {'Formal': 'Buhbai', 'Informal': 'Bai'}, 'Hi': 'Hai'}"
      ]
     },
     "execution_count": 177,
     "metadata": {},
     "output_type": "execute_result"
    }
   ],
   "source": [
    "eng_copy=eng.copy()\n",
    "eng_copy"
   ]
  },
  {
   "cell_type": "code",
   "execution_count": 178,
   "metadata": {
    "collapsed": true
   },
   "outputs": [],
   "source": [
    "eng_copy[\"Bye\"].clear()"
   ]
  },
  {
   "cell_type": "code",
   "execution_count": 179,
   "metadata": {},
   "outputs": [
    {
     "data": {
      "text/plain": [
       "{'Bye': {}, 'Hi': 'Hai'}"
      ]
     },
     "execution_count": 179,
     "metadata": {},
     "output_type": "execute_result"
    }
   ],
   "source": [
    "eng"
   ]
  },
  {
   "cell_type": "code",
   "execution_count": 181,
   "metadata": {},
   "outputs": [
    {
     "data": {
      "text/plain": [
       "'Hai'"
      ]
     },
     "execution_count": 181,
     "metadata": {},
     "output_type": "execute_result"
    }
   ],
   "source": [
    "eng.get(\"Hi\")"
   ]
  },
  {
   "cell_type": "code",
   "execution_count": 182,
   "metadata": {},
   "outputs": [
    {
     "data": {
      "text/plain": [
       "'Not in Dictionary'"
      ]
     },
     "execution_count": 182,
     "metadata": {},
     "output_type": "execute_result"
    }
   ],
   "source": [
    "eng.get(\"Thank you\",\"Not in Dictionary\")"
   ]
  },
  {
   "cell_type": "code",
   "execution_count": 188,
   "metadata": {},
   "outputs": [
    {
     "data": {
      "text/plain": [
       "dict_keys(['Hi', 'Bye'])"
      ]
     },
     "execution_count": 188,
     "metadata": {},
     "output_type": "execute_result"
    }
   ],
   "source": [
    "eng.keys()"
   ]
  },
  {
   "cell_type": "code",
   "execution_count": 189,
   "metadata": {},
   "outputs": [
    {
     "data": {
      "text/plain": [
       "dict_values(['Hai', {}])"
      ]
     },
     "execution_count": 189,
     "metadata": {},
     "output_type": "execute_result"
    }
   ],
   "source": [
    "eng.values()"
   ]
  },
  {
   "cell_type": "code",
   "execution_count": 190,
   "metadata": {},
   "outputs": [
    {
     "data": {
      "text/plain": [
       "dict_items([('Hi', 'Hai'), ('Bye', {})])"
      ]
     },
     "execution_count": 190,
     "metadata": {},
     "output_type": "execute_result"
    }
   ],
   "source": [
    "eng.items()"
   ]
  },
  {
   "cell_type": "code",
   "execution_count": 192,
   "metadata": {
    "collapsed": true
   },
   "outputs": [],
   "source": [
    "eng.update({\"Thank you\":\"Much Thx\"})"
   ]
  },
  {
   "cell_type": "code",
   "execution_count": 193,
   "metadata": {},
   "outputs": [
    {
     "data": {
      "text/plain": [
       "{'Bye': {}, 'Hi': 'Hai', 'Thank you': 'Much Thx'}"
      ]
     },
     "execution_count": 193,
     "metadata": {},
     "output_type": "execute_result"
    }
   ],
   "source": [
    "eng"
   ]
  },
  {
   "cell_type": "code",
   "execution_count": 195,
   "metadata": {},
   "outputs": [
    {
     "name": "stdout",
     "output_type": "stream",
     "text": [
      "5\n",
      "4\n",
      "3\n",
      "2\n",
      "1\n",
      "done\n"
     ]
    }
   ],
   "source": [
    "#loops\n",
    "#For loops\n",
    "countdown=5\n",
    "for x in range (countdown,0,-1):\n",
    "    print(x)\n",
    "print('done')"
   ]
  },
  {
   "cell_type": "code",
   "execution_count": 199,
   "metadata": {},
   "outputs": [
    {
     "name": "stdout",
     "output_type": "stream",
     "text": [
      "number:5\n",
      "5 4 3 2 1 0 \n",
      "4 3 2 1 0 \n",
      "3 2 1 0 \n",
      "2 1 0 \n",
      "1 0 \n",
      "0 \n"
     ]
    }
   ],
   "source": [
    "row = int(input('number:'))\n",
    "for x in range(row,-1,-1):\n",
    "    for j in range(x,-1,-1):\n",
    "        print(j,end=' ')\n",
    "    print(\"\")"
   ]
  },
  {
   "cell_type": "code",
   "execution_count": 202,
   "metadata": {},
   "outputs": [
    {
     "name": "stdout",
     "output_type": "stream",
     "text": [
      "Name: Diego\n",
      "Dg"
     ]
    }
   ],
   "source": [
    "x=input(\"Name: \")\n",
    "for char in x:\n",
    "    if char.lower() not in 'aeiou':\n",
    "        print(char,end='')"
   ]
  },
  {
   "cell_type": "code",
   "execution_count": 210,
   "metadata": {},
   "outputs": [
    {
     "name": "stdout",
     "output_type": "stream",
     "text": [
      "Paul, as himself\n",
      "Bill, as himself\n",
      "Kay, as himself\n"
     ]
    }
   ],
   "source": [
    "x=[\"Paul\",\"Bill\",\"Kay\"]\n",
    "for name in x:\n",
    "    print(name+\", as himself\")"
   ]
  },
  {
   "cell_type": "code",
   "execution_count": 273,
   "metadata": {},
   "outputs": [
    {
     "name": "stdout",
     "output_type": "stream",
     "text": [
      "Enter a number: 12133\n",
      "Not prime. Divisible by 11\n"
     ]
    }
   ],
   "source": [
    "x = int(input('Enter a number: '))\n",
    "i=2\n",
    "while i<x:\n",
    "    if x%i == 0:\n",
    "        print('Not prime. Divisible by '+str(i))\n",
    "        break\n",
    "    i+=1\n",
    "else:\n",
    "    print('Prime')"
   ]
  },
  {
   "cell_type": "code",
   "execution_count": 275,
   "metadata": {},
   "outputs": [
    {
     "name": "stdout",
     "output_type": "stream",
     "text": [
      "Enter a number: 550\n",
      "2 3 5 7 11 13 17 19 23 29 31 37 41 43 47 53 59 61 67 71 73 79 83 89 97 101 103 107 109 113 127 131 137 139 149 151 157 163 167 173 179 181 191 193 197 199 211 223 227 229 233 239 241 251 257 263 269 271 277 281 283 293 307 311 313 317 331 337 347 349 353 359 367 373 379 383 389 397 401 409 419 421 431 433 439 443 449 457 461 463 467 479 487 491 499 503 509 521 523 541 547 "
     ]
    }
   ],
   "source": [
    "x = int(input('Enter a number: '))\n",
    "i=2\n",
    "prime=False\n",
    "\n",
    "for counter in range (1,x,1):\n",
    "    while i<counter:\n",
    "        if counter%i == 0:\n",
    "            prime=True\n",
    "        i+=1\n",
    "    if prime == False and i==counter:\n",
    "        print(counter,end=' ')\n",
    "    prime=False\n",
    "    i=2"
   ]
  },
  {
   "cell_type": "code",
   "execution_count": 292,
   "metadata": {
    "collapsed": true
   },
   "outputs": [],
   "source": [
    "#letter=''\n",
    "#word = input(\"Enter a word: \").lower()\n",
    "#last='a'\n",
    "#for letter in word:\n",
    "#    if letter in \"aeiou\":\n",
    "#        if letter < last:\n",
    "#            print(\"The vowel in \",word,\"are out of order.\")\n",
    "#            break\n",
    "#        last = letter\n",
    "#else:\n",
    "#    print(\"The vowels in \",word,\"are in order.\")"
   ]
  },
  {
   "cell_type": "code",
   "execution_count": 54,
   "metadata": {
    "scrolled": true
   },
   "outputs": [
    {
     "name": "stdout",
     "output_type": "stream",
     "text": [
      "Output After Training:\n",
      "[[ 0.00301758]\n",
      " [ 0.00246109]\n",
      " [ 0.99799161]\n",
      " [ 0.99753723]]\n",
      "Weights after Training:\n",
      "[[ 12.00870061]\n",
      " [ -0.2044116 ]\n",
      " [ -5.8002822 ]]\n",
      "Estimation of input:[1 0 0] = [ 0.99999391]\n"
     ]
    }
   ],
   "source": [
    "# https://iamtrask.github.io/2015/07/12/basic-python-network/\n",
    "\n",
    "import numpy as np\n",
    "\n",
    "# sigmoid function\n",
    "def nonlin(x,deriv=False):\n",
    "    if(deriv==True):\n",
    "        return x*(1-x)\n",
    "        #return np.exp(-x)*(1+np.exp(-x))**-2\n",
    "    return 1/(1+np.exp(-x))\n",
    " \n",
    "# input dataset\n",
    "X = np.array([ \n",
    "[0,0,1],\n",
    "[0,1,1],\n",
    "[1,0,1],\n",
    "[1,1,1] ])\n",
    " \n",
    "# output dataset           \n",
    "y = np.array([[0,0,1,1]]).T\n",
    " \n",
    "# seed random numbers to make calculation\n",
    "# deterministic (just a good practice)\n",
    "np.random.seed(1)\n",
    " \n",
    "# initialize weights randomly with mean 0\n",
    "syn0 = 2*np.random.random((3,1)) -1\n",
    "#print(\"syn0\"+str(syn0))\n",
    " \n",
    "for iter in range(100000):\n",
    " \n",
    "    # forward propagation\n",
    "    l0 = X\n",
    "    l1 = nonlin(np.dot(l0,syn0))\n",
    "\n",
    "    # how much did we miss?\n",
    "    l1_error = y - l1\n",
    " \n",
    "    # multiply how much we missed by the\n",
    "    # slope of the sigmoid at the values in l1\n",
    "    l1_delta = l1_error * nonlin(l1,True)\n",
    " \n",
    "    # update weights\n",
    "    syn0 += np.dot(l0.T,l1_delta)\n",
    "    #print(np.dot(l0.T,l1_delta))\n",
    "    #print(\"syn0+:\"+str(syn0))\n",
    "print (\"Output After Training:\")\n",
    "print (l1)\n",
    "\n",
    "print(\"Weights after Training:\")\n",
    "print(syn0)\n",
    "\n",
    "New=np.array([1,0,0])\n",
    "estimation=1/(1+np.exp(-np.dot(New,syn0)))\n",
    "print(\"Estimation of input:\"+str(New)+\" = \"+str(estimation))"
   ]
  },
  {
   "cell_type": "code",
   "execution_count": 59,
   "metadata": {
    "scrolled": true
   },
   "outputs": [
    {
     "name": "stdout",
     "output_type": "stream",
     "text": [
      "Output After Training:\n",
      "[[ 0.2507086 ]\n",
      " [ 0.51319898]\n",
      " [ 0.51319898]\n",
      " [ 0.75908047]\n",
      " [ 0.75908047]\n",
      " [ 0.76860537]\n",
      " [ 0.5       ]]\n",
      "Weights after Training:\n",
      "[[ 1.14764484]\n",
      " [ 1.14764484]\n",
      " [-1.09483664]]\n",
      "Estimation of input:[1 1 0] = [ 0.90848618]\n"
     ]
    }
   ],
   "source": [
    "# https://iamtrask.github.io/2015/07/12/basic-python-network/\n",
    "\n",
    "import numpy as np\n",
    "\n",
    "# sigmoid function\n",
    "def nonlin(x,deriv=False):\n",
    "    if(deriv==True):\n",
    "        return np.exp(-x)*(1+np.exp(-x))**-2\n",
    "    return 1/(1+np.exp(-x))\n",
    " \n",
    "# input dataset\n",
    "#X = np.array([ \n",
    "#[0,0,1],\n",
    "#[0,1,1],\n",
    "#[1,0,1],\n",
    "#[1,1,1] ])\n",
    "X = np.array([ \n",
    "[0,0,1],\n",
    "[0,1,1],\n",
    "[1,0,1],\n",
    "[0,1,0],\n",
    "[1,0,0],\n",
    "[1,1,1],\n",
    "[0,0,0]])\n",
    " \n",
    "# output dataset           \n",
    "#y = np.array([[0,0,1,1]]).T\n",
    "y = np.array([[0,1,1,1,1,0,0]]).T\n",
    "\n",
    "# seed random numbers to make calculation\n",
    "# deterministic (just a good practice)\n",
    "np.random.seed(1)\n",
    " \n",
    "# initialize weights randomly with mean 0\n",
    "syn0 = np.random.random((3,1))\n",
    " \n",
    "for iter in range(700000):\n",
    " \n",
    "    # forward propagation\n",
    "    l0 = X\n",
    "    l1 = nonlin(np.dot(l0,syn0))\n",
    "\n",
    "    # how much did we miss?\n",
    "    l1_error = y - l1\n",
    " \n",
    "    # multiply how much we missed by the\n",
    "    # slope of the sigmoid at the values in l1\n",
    "    l1_delta = l1_error * nonlin(l1,True)\n",
    " \n",
    "    # update weights\n",
    "    syn0 += np.dot(l0.T,l1_delta)\n",
    "    #print(np.dot(l0.T,l1_delta))\n",
    "    #print(\"syn0+:\"+str(syn0))\n",
    "print (\"Output After Training:\")\n",
    "print (l1)\n",
    "print(\"Weights after Training:\")\n",
    "print(syn0)\n",
    "\n",
    "New=np.array([1,1,0])\n",
    "estimation=1/(1+np.exp(-np.dot(New,syn0)))\n",
    "print(\"Estimation of input:\"+str(New)+\" = \"+str(estimation))"
   ]
  },
  {
   "cell_type": "code",
   "execution_count": 41,
   "metadata": {},
   "outputs": [
    {
     "name": "stdout",
     "output_type": "stream",
     "text": [
      "[[ 0.98115222]\n",
      " [ 0.97129792]\n",
      " [ 0.03811408]]\n"
     ]
    }
   ],
   "source": [
    "#https://www.analyticsvidhya.com/blog/2017/05/neural-network-from-scratch-in-python-and-r/\n",
    "\n",
    "import numpy as np\n",
    "\n",
    "#Input array\n",
    "X=np.array([[1,0,1,0],[1,0,1,1],[0,1,0,1]])\n",
    "\n",
    "#Output\n",
    "y=np.array([[1],[1],[0]])\n",
    "\n",
    "#Sigmoid Function\n",
    "def sigmoid (x):\n",
    "    return 1/(1 + np.exp(-x))\n",
    "\n",
    "#Derivative of Sigmoid Function\n",
    "def derivatives_sigmoid(x):\n",
    "    return x * (1 - x)\n",
    "\n",
    "#Variable initialization\n",
    "lr=0.1 #Setting learning rate\n",
    "inputlayer_neurons = X.shape[1] #number of features in data set\n",
    "hiddenlayer_neurons = 3 #number of hidden layers neurons\n",
    "output_neurons = 1 #number of neurons at output layer\n",
    "\n",
    "#weight and bias initialization\n",
    "wh=np.random.uniform(size=(inputlayer_neurons,hiddenlayer_neurons))\n",
    "bh=np.random.uniform(size=(1,hiddenlayer_neurons))\n",
    "wout=np.random.uniform(size=(hiddenlayer_neurons,output_neurons))\n",
    "bout=np.random.uniform(size=(1,output_neurons))\n",
    "\n",
    "for i in range(5000):\n",
    "\n",
    "    #Forward Propogation\n",
    "    hidden_layer_input1=np.dot(X,wh)\n",
    "    hidden_layer_input=hidden_layer_input1 + bh\n",
    "    hiddenlayer_activations = sigmoid(hidden_layer_input)\n",
    "    output_layer_input1=np.dot(hiddenlayer_activations,wout)\n",
    "    output_layer_input= output_layer_input1+ bout\n",
    "    output = sigmoid(output_layer_input)\n",
    "\n",
    "    #Backpropagation\n",
    "    E = y-output\n",
    "    slope_output_layer = derivatives_sigmoid(output)\n",
    "    slope_hidden_layer = derivatives_sigmoid(hiddenlayer_activations)\n",
    "    d_output = E * slope_output_layer\n",
    "    Error_at_hidden_layer = d_output.dot(wout.T)\n",
    "    d_hiddenlayer = Error_at_hidden_layer * slope_hidden_layer\n",
    "    wout += hiddenlayer_activations.T.dot(d_output) *lr\n",
    "    bout += np.sum(d_output, axis=0,keepdims=True) *lr\n",
    "    wh += X.T.dot(d_hiddenlayer) *lr\n",
    "    bh += np.sum(d_hiddenlayer, axis=0,keepdims=True) *lr\n",
    "\n",
    "print (output)"
   ]
  },
  {
   "cell_type": "code",
   "execution_count": 60,
   "metadata": {},
   "outputs": [
    {
     "name": "stdout",
     "output_type": "stream",
     "text": [
      "[ 0.99993704]\n"
     ]
    }
   ],
   "source": [
    "#https://medium.com/technology-invention-and-more/how-to-build-a-simple-neural-network-in-9-lines-of-python-code-cc8f23647ca1\n",
    "\n",
    "import numpy as np\n",
    "training_set_inputs = np.array([[0, 0, 1], [1, 1, 1], [1, 0, 1], [0, 1, 1]])\n",
    "training_set_outputs = np.array([[0, 1, 1, 0]]).T\n",
    "np.random.seed(1)\n",
    "synaptic_weights = 2 * np.random.random((3, 1)) - 1\n",
    "for iteration in range(10000):\n",
    "    output = 1 / (1 + np.exp(-(np.dot(training_set_inputs, synaptic_weights))))\n",
    "    synaptic_weights += np.dot(training_set_inputs.T, (training_set_outputs - output) * output * (1 - output))\n",
    "print (1 / (1 + np.exp(-(np.dot(np.array([1, 0, 0]), synaptic_weights)))))"
   ]
  },
  {
   "cell_type": "code",
   "execution_count": 67,
   "metadata": {},
   "outputs": [
    {
     "name": "stdout",
     "output_type": "stream",
     "text": [
      "Stage 1) Random starting synaptic weights: \n",
      "    Layer 1 (4 neurons, each with 3 inputs): \n",
      "[[-0.16595599  0.44064899 -0.99977125 -0.39533485]\n",
      " [-0.70648822 -0.81532281 -0.62747958 -0.30887855]\n",
      " [-0.20646505  0.07763347 -0.16161097  0.370439  ]]\n",
      "    Layer 2 (1 neuron, with 4 inputs):\n",
      "[[-0.5910955 ]\n",
      " [ 0.75623487]\n",
      " [-0.94522481]\n",
      " [ 0.34093502]]\n",
      "Stage 2) New synaptic weights after training: \n",
      "    Layer 1 (4 neurons, each with 3 inputs): \n",
      "[[ 0.3122465   4.57704063 -6.15329916 -8.75834924]\n",
      " [ 0.19676933 -8.74975548 -6.1638187   4.40720501]\n",
      " [-0.03327074 -0.58272995  0.08319184 -0.39787635]]\n",
      "    Layer 2 (1 neuron, with 4 inputs):\n",
      "[[ -8.18850925]\n",
      " [ 10.13210706]\n",
      " [-21.33532796]\n",
      " [  9.90935111]]\n",
      "Stage 3) Considering a new situation [1, 1, 0] -> ?: \n",
      "[ 0.0078876]\n"
     ]
    }
   ],
   "source": [
    "#https://medium.com/technology-invention-and-more/how-to-build-a-multi-layered-neural-network-in-python-53ec3d1d326a\n",
    "\n",
    "\n",
    "from numpy import exp, array, random, dot\n",
    "\n",
    "\n",
    "class NeuronLayer():\n",
    "    def __init__(self, number_of_neurons, number_of_inputs_per_neuron):\n",
    "        self.synaptic_weights = 2 * random.random((number_of_inputs_per_neuron, number_of_neurons)) - 1\n",
    "\n",
    "\n",
    "class NeuralNetwork():\n",
    "    def __init__(self, layer1, layer2):\n",
    "        self.layer1 = layer1\n",
    "        self.layer2 = layer2\n",
    "\n",
    "    # The Sigmoid function, which describes an S shaped curve.\n",
    "    # We pass the weighted sum of the inputs through this function to\n",
    "    # normalise them between 0 and 1.\n",
    "    def __sigmoid(self, x):\n",
    "        return 1 / (1 + exp(-x))\n",
    "\n",
    "    # The derivative of the Sigmoid function.\n",
    "    # This is the gradient of the Sigmoid curve.\n",
    "    # It indicates how confident we are about the existing weight.\n",
    "    def __sigmoid_derivative(self, x):\n",
    "        return x * (1 - x)\n",
    "\n",
    "    # We train the neural network through a process of trial and error.\n",
    "    # Adjusting the synaptic weights each time.\n",
    "    def train(self, training_set_inputs, training_set_outputs, number_of_training_iterations):\n",
    "        for iteration in range(number_of_training_iterations):\n",
    "            # Pass the training set through our neural network\n",
    "            output_from_layer_1, output_from_layer_2 = self.think(training_set_inputs)\n",
    "\n",
    "            # Calculate the error for layer 2 (The difference between the desired output\n",
    "            # and the predicted output).\n",
    "            layer2_error = training_set_outputs - output_from_layer_2\n",
    "            layer2_delta = layer2_error * self.__sigmoid_derivative(output_from_layer_2)\n",
    "\n",
    "            # Calculate the error for layer 1 (By looking at the weights in layer 1,\n",
    "            # we can determine by how much layer 1 contributed to the error in layer 2).\n",
    "            layer1_error = layer2_delta.dot(self.layer2.synaptic_weights.T)\n",
    "            layer1_delta = layer1_error * self.__sigmoid_derivative(output_from_layer_1)\n",
    "\n",
    "            # Calculate how much to adjust the weights by\n",
    "            layer1_adjustment = training_set_inputs.T.dot(layer1_delta)\n",
    "            layer2_adjustment = output_from_layer_1.T.dot(layer2_delta)\n",
    "\n",
    "            # Adjust the weights.\n",
    "            self.layer1.synaptic_weights += layer1_adjustment\n",
    "            self.layer2.synaptic_weights += layer2_adjustment\n",
    "\n",
    "    # The neural network thinks.\n",
    "    def think(self, inputs):\n",
    "        output_from_layer1 = self.__sigmoid(dot(inputs, self.layer1.synaptic_weights))\n",
    "        output_from_layer2 = self.__sigmoid(dot(output_from_layer1, self.layer2.synaptic_weights))\n",
    "        return output_from_layer1, output_from_layer2\n",
    "\n",
    "    # The neural network prints its weights\n",
    "    def print_weights(self):\n",
    "        print (\"    Layer 1 (4 neurons, each with 3 inputs): \")\n",
    "        print (self.layer1.synaptic_weights)\n",
    "        print (\"    Layer 2 (1 neuron, with 4 inputs):\")\n",
    "        print (self.layer2.synaptic_weights)\n",
    "\n",
    "if __name__ == \"__main__\":\n",
    "\n",
    "    #Seed the random number generator\n",
    "    random.seed(1)\n",
    "\n",
    "    # Create layer 1 (4 neurons, each with 3 inputs)\n",
    "    layer1 = NeuronLayer(4, 3)\n",
    "\n",
    "    # Create layer 2 (a single neuron with 4 inputs)\n",
    "    layer2 = NeuronLayer(1, 4)\n",
    "\n",
    "    # Combine the layers to create a neural network\n",
    "    neural_network = NeuralNetwork(layer1, layer2)\n",
    "\n",
    "    print (\"Stage 1) Random starting synaptic weights: \")\n",
    "    neural_network.print_weights()\n",
    "\n",
    "    # The training set. We have 7 examples, each consisting of 3 input values\n",
    "    # and 1 output value.\n",
    "    training_set_inputs = array([[0, 0, 1], [0, 1, 1], [1, 0, 1], [0, 1, 0], [1, 0, 0], [1, 1, 1], [0, 0, 0]])\n",
    "    training_set_outputs = array([[0, 1, 1, 1, 1, 0, 0]]).T\n",
    "\n",
    "    # Train the neural network using the training set.\n",
    "    # Do it 60,000 times and make small adjustments each time.\n",
    "    neural_network.train(training_set_inputs, training_set_outputs, 60000)\n",
    "\n",
    "    print (\"Stage 2) New synaptic weights after training: \")\n",
    "    neural_network.print_weights()\n",
    "\n",
    "    # Test the neural network with a new situation.\n",
    "    print (\"Stage 3) Considering a new situation [1, 1, 0] -> ?: \")\n",
    "    hidden_state, output = neural_network.think(array([1, 1, 0]))\n",
    "    print (output)"
   ]
  },
  {
   "cell_type": "code",
   "execution_count": 138,
   "metadata": {},
   "outputs": [
    {
     "name": "stdout",
     "output_type": "stream",
     "text": [
      "Estimation of input[1 1 0] = \n",
      "0.9960075916569275\n"
     ]
    }
   ],
   "source": [
    "# 2 neuron layer script\n",
    "import numpy as np\n",
    "\n",
    "def synaptics_weights (number_neurons,number_inputs):\n",
    "    return 2 * np.random.random((number_inputs,number_neurons)) - 1\n",
    "\n",
    "def sigmoid (x):\n",
    "    return 1/(1+np.exp(-x))\n",
    "\n",
    "def sigmoid_derivative(x):\n",
    "    #return np.exp(-x)*((1+np.exp(-x))**-2)\n",
    "    return x*(1-x)\n",
    "\n",
    "training_set_input=np.array([\n",
    "    [0,0,1],\n",
    "    [0,1,1],\n",
    "    [1,0,1],\n",
    "    [0,1,0],\n",
    "    [1,0,0],\n",
    "    [1,1,1],\n",
    "    [0,0,0]\n",
    "])\n",
    "\n",
    "training_set_output=np.array([[0,1,1,1,1,0,0]]).T\n",
    "\n",
    "np.random.seed(1)\n",
    "\n",
    "weights_L1=synaptics_weights(4,3)\n",
    "weights_L2=synaptics_weights(1,4)\n",
    "\n",
    "for iter in range(100000):\n",
    "    #Output generation:\n",
    "    first_layer_output = sigmoid(np.dot(training_set_input,weights_L1))\n",
    "    second_layer_output = sigmoid(np.dot(first_layer_output,weights_L2))\n",
    "    \n",
    "    #2nd layer loop\n",
    "    second_layer_error=training_set_output - second_layer_output\n",
    "    second_layer_delta=second_layer_error*sigmoid_derivative(second_layer_output)\n",
    "    \n",
    "    #Feedback from 2nd layer to first layer\n",
    "    first_layer_error=np.dot(second_layer_delta,weights_L2.T) #The error is measured as the contribution for the delta of the 2nd layer\n",
    "    first_layer_delta=first_layer_error*sigmoid_derivative(first_layer_output)\n",
    "    \n",
    "    #Synaptics Weights update\n",
    "    weights_L1+=np.dot(training_set_input.T,first_layer_delta)\n",
    "    weights_L2+=np.dot(first_layer_output.T,second_layer_delta)\n",
    "\n",
    "situation=np.array([1,0,0])\n",
    "estimation=sigmoid(np.dot(sigmoid(np.dot(situation,weights_L1)),weights_L2))\n",
    "print(\"Estimation of input\"+str(New)+\" = \")\n",
    "print(float(estimation))\n"
   ]
  }
 ],
 "metadata": {
  "kernelspec": {
   "display_name": "Python 3",
   "language": "python",
   "name": "python3"
  },
  "language_info": {
   "codemirror_mode": {
    "name": "ipython",
    "version": 3
   },
   "file_extension": ".py",
   "mimetype": "text/x-python",
   "name": "python",
   "nbconvert_exporter": "python",
   "pygments_lexer": "ipython3",
   "version": "3.6.1"
  }
 },
 "nbformat": 4,
 "nbformat_minor": 2
}
